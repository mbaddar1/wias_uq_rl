{
 "cells": [
  {
   "cell_type": "code",
   "execution_count": null,
   "id": "earned-security",
   "metadata": {},
   "outputs": [],
   "source": [
    "# Stochastic Backpropagation through Mixture Density Distributions\n",
    "# https://arxiv.org/abs/1607.05690"
   ]
  },
  {
   "cell_type": "code",
   "execution_count": null,
   "id": "republican-museum",
   "metadata": {},
   "outputs": [],
   "source": []
  }
 ],
 "metadata": {
  "kernelspec": {
   "display_name": "Python 3",
   "language": "python",
   "name": "python3"
  },
  "language_info": {
   "codemirror_mode": {
    "name": "ipython",
    "version": 3
   },
   "file_extension": ".py",
   "mimetype": "text/x-python",
   "name": "python",
   "nbconvert_exporter": "python",
   "pygments_lexer": "ipython3",
   "version": "3.7.0"
  }
 },
 "nbformat": 4,
 "nbformat_minor": 5
}
