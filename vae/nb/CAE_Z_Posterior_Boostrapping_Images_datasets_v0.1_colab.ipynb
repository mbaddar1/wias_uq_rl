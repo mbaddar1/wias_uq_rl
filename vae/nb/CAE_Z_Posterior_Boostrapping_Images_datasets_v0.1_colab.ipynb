{
  "nbformat": 4,
  "nbformat_minor": 5,
  "metadata": {
    "kernelspec": {
      "display_name": "Python 3",
      "language": "python",
      "name": "python3"
    },
    "language_info": {
      "codemirror_mode": {
        "name": "ipython",
        "version": 3
      },
      "file_extension": ".py",
      "mimetype": "text/x-python",
      "name": "python",
      "nbconvert_exporter": "python",
      "pygments_lexer": "ipython3",
      "version": "3.7.0"
    },
    "colab": {
      "name": "CAE_Z_Posterior_Boostrapping_Images_datasets_v0.1.ipynb",
      "provenance": [],
      "toc_visible": true,
      "include_colab_link": true
    },
    "accelerator": "GPU",
    "widgets": {
      "application/vnd.jupyter.widget-state+json": {
        "3e1728657c024005a34e861d570ca12b": {
          "model_module": "@jupyter-widgets/controls",
          "model_name": "HBoxModel",
          "state": {
            "_view_name": "HBoxView",
            "_dom_classes": [],
            "_model_name": "HBoxModel",
            "_view_module": "@jupyter-widgets/controls",
            "_model_module_version": "1.5.0",
            "_view_count": null,
            "_view_module_version": "1.5.0",
            "box_style": "",
            "layout": "IPY_MODEL_392557de12564bfdb86f7dc83ec3d5ad",
            "_model_module": "@jupyter-widgets/controls",
            "children": [
              "IPY_MODEL_aad5e55083524a8496b587a1386ea898",
              "IPY_MODEL_41d798e38a0a44cea73c74ffe4c7f684"
            ]
          }
        },
        "392557de12564bfdb86f7dc83ec3d5ad": {
          "model_module": "@jupyter-widgets/base",
          "model_name": "LayoutModel",
          "state": {
            "_view_name": "LayoutView",
            "grid_template_rows": null,
            "right": null,
            "justify_content": null,
            "_view_module": "@jupyter-widgets/base",
            "overflow": null,
            "_model_module_version": "1.2.0",
            "_view_count": null,
            "flex_flow": null,
            "width": null,
            "min_width": null,
            "border": null,
            "align_items": null,
            "bottom": null,
            "_model_module": "@jupyter-widgets/base",
            "top": null,
            "grid_column": null,
            "overflow_y": null,
            "overflow_x": null,
            "grid_auto_flow": null,
            "grid_area": null,
            "grid_template_columns": null,
            "flex": null,
            "_model_name": "LayoutModel",
            "justify_items": null,
            "grid_row": null,
            "max_height": null,
            "align_content": null,
            "visibility": null,
            "align_self": null,
            "height": null,
            "min_height": null,
            "padding": null,
            "grid_auto_rows": null,
            "grid_gap": null,
            "max_width": null,
            "order": null,
            "_view_module_version": "1.2.0",
            "grid_template_areas": null,
            "object_position": null,
            "object_fit": null,
            "grid_auto_columns": null,
            "margin": null,
            "display": null,
            "left": null
          }
        },
        "aad5e55083524a8496b587a1386ea898": {
          "model_module": "@jupyter-widgets/controls",
          "model_name": "FloatProgressModel",
          "state": {
            "_view_name": "ProgressView",
            "style": "IPY_MODEL_42f9d4bd963648ef8f33221c073d399e",
            "_dom_classes": [],
            "description": "Dl Completed...:  67%",
            "_model_name": "FloatProgressModel",
            "bar_style": "info",
            "max": 1,
            "_view_module": "@jupyter-widgets/controls",
            "_model_module_version": "1.5.0",
            "value": 1,
            "_view_count": null,
            "_view_module_version": "1.5.0",
            "orientation": "horizontal",
            "min": 0,
            "description_tooltip": null,
            "_model_module": "@jupyter-widgets/controls",
            "layout": "IPY_MODEL_f62433d7d19c4918bbddcfa71cbbae80"
          }
        },
        "41d798e38a0a44cea73c74ffe4c7f684": {
          "model_module": "@jupyter-widgets/controls",
          "model_name": "HTMLModel",
          "state": {
            "_view_name": "HTMLView",
            "style": "IPY_MODEL_71edd01349124567a8c7f8ae305dbed7",
            "_dom_classes": [],
            "description": "",
            "_model_name": "HTMLModel",
            "placeholder": "​",
            "_view_module": "@jupyter-widgets/controls",
            "_model_module_version": "1.5.0",
            "value": " 2/3 [01:32&lt;00:01,  1.79s/ url]",
            "_view_count": null,
            "_view_module_version": "1.5.0",
            "description_tooltip": null,
            "_model_module": "@jupyter-widgets/controls",
            "layout": "IPY_MODEL_86cb99000a914ceabd3a8c119fe894d0"
          }
        },
        "42f9d4bd963648ef8f33221c073d399e": {
          "model_module": "@jupyter-widgets/controls",
          "model_name": "ProgressStyleModel",
          "state": {
            "_view_name": "StyleView",
            "_model_name": "ProgressStyleModel",
            "description_width": "initial",
            "_view_module": "@jupyter-widgets/base",
            "_model_module_version": "1.5.0",
            "_view_count": null,
            "_view_module_version": "1.2.0",
            "bar_color": null,
            "_model_module": "@jupyter-widgets/controls"
          }
        },
        "f62433d7d19c4918bbddcfa71cbbae80": {
          "model_module": "@jupyter-widgets/base",
          "model_name": "LayoutModel",
          "state": {
            "_view_name": "LayoutView",
            "grid_template_rows": null,
            "right": null,
            "justify_content": null,
            "_view_module": "@jupyter-widgets/base",
            "overflow": null,
            "_model_module_version": "1.2.0",
            "_view_count": null,
            "flex_flow": null,
            "width": null,
            "min_width": null,
            "border": null,
            "align_items": null,
            "bottom": null,
            "_model_module": "@jupyter-widgets/base",
            "top": null,
            "grid_column": null,
            "overflow_y": null,
            "overflow_x": null,
            "grid_auto_flow": null,
            "grid_area": null,
            "grid_template_columns": null,
            "flex": null,
            "_model_name": "LayoutModel",
            "justify_items": null,
            "grid_row": null,
            "max_height": null,
            "align_content": null,
            "visibility": null,
            "align_self": null,
            "height": null,
            "min_height": null,
            "padding": null,
            "grid_auto_rows": null,
            "grid_gap": null,
            "max_width": null,
            "order": null,
            "_view_module_version": "1.2.0",
            "grid_template_areas": null,
            "object_position": null,
            "object_fit": null,
            "grid_auto_columns": null,
            "margin": null,
            "display": null,
            "left": null
          }
        },
        "71edd01349124567a8c7f8ae305dbed7": {
          "model_module": "@jupyter-widgets/controls",
          "model_name": "DescriptionStyleModel",
          "state": {
            "_view_name": "StyleView",
            "_model_name": "DescriptionStyleModel",
            "description_width": "",
            "_view_module": "@jupyter-widgets/base",
            "_model_module_version": "1.5.0",
            "_view_count": null,
            "_view_module_version": "1.2.0",
            "_model_module": "@jupyter-widgets/controls"
          }
        },
        "86cb99000a914ceabd3a8c119fe894d0": {
          "model_module": "@jupyter-widgets/base",
          "model_name": "LayoutModel",
          "state": {
            "_view_name": "LayoutView",
            "grid_template_rows": null,
            "right": null,
            "justify_content": null,
            "_view_module": "@jupyter-widgets/base",
            "overflow": null,
            "_model_module_version": "1.2.0",
            "_view_count": null,
            "flex_flow": null,
            "width": null,
            "min_width": null,
            "border": null,
            "align_items": null,
            "bottom": null,
            "_model_module": "@jupyter-widgets/base",
            "top": null,
            "grid_column": null,
            "overflow_y": null,
            "overflow_x": null,
            "grid_auto_flow": null,
            "grid_area": null,
            "grid_template_columns": null,
            "flex": null,
            "_model_name": "LayoutModel",
            "justify_items": null,
            "grid_row": null,
            "max_height": null,
            "align_content": null,
            "visibility": null,
            "align_self": null,
            "height": null,
            "min_height": null,
            "padding": null,
            "grid_auto_rows": null,
            "grid_gap": null,
            "max_width": null,
            "order": null,
            "_view_module_version": "1.2.0",
            "grid_template_areas": null,
            "object_position": null,
            "object_fit": null,
            "grid_auto_columns": null,
            "margin": null,
            "display": null,
            "left": null
          }
        },
        "f3856b928e9a4e88b7479fb4c0a2365b": {
          "model_module": "@jupyter-widgets/controls",
          "model_name": "HBoxModel",
          "state": {
            "_view_name": "HBoxView",
            "_dom_classes": [],
            "_model_name": "HBoxModel",
            "_view_module": "@jupyter-widgets/controls",
            "_model_module_version": "1.5.0",
            "_view_count": null,
            "_view_module_version": "1.5.0",
            "box_style": "",
            "layout": "IPY_MODEL_63b9fd745918446d99a78f0f506fe372",
            "_model_module": "@jupyter-widgets/controls",
            "children": [
              "IPY_MODEL_5bd40093d88d44f3a9e2dd5206847884",
              "IPY_MODEL_f469e2154f224f1caced121c6c30ef75"
            ]
          }
        },
        "63b9fd745918446d99a78f0f506fe372": {
          "model_module": "@jupyter-widgets/base",
          "model_name": "LayoutModel",
          "state": {
            "_view_name": "LayoutView",
            "grid_template_rows": null,
            "right": null,
            "justify_content": null,
            "_view_module": "@jupyter-widgets/base",
            "overflow": null,
            "_model_module_version": "1.2.0",
            "_view_count": null,
            "flex_flow": null,
            "width": null,
            "min_width": null,
            "border": null,
            "align_items": null,
            "bottom": null,
            "_model_module": "@jupyter-widgets/base",
            "top": null,
            "grid_column": null,
            "overflow_y": null,
            "overflow_x": null,
            "grid_auto_flow": null,
            "grid_area": null,
            "grid_template_columns": null,
            "flex": null,
            "_model_name": "LayoutModel",
            "justify_items": null,
            "grid_row": null,
            "max_height": null,
            "align_content": null,
            "visibility": null,
            "align_self": null,
            "height": null,
            "min_height": null,
            "padding": null,
            "grid_auto_rows": null,
            "grid_gap": null,
            "max_width": null,
            "order": null,
            "_view_module_version": "1.2.0",
            "grid_template_areas": null,
            "object_position": null,
            "object_fit": null,
            "grid_auto_columns": null,
            "margin": null,
            "display": null,
            "left": null
          }
        },
        "5bd40093d88d44f3a9e2dd5206847884": {
          "model_module": "@jupyter-widgets/controls",
          "model_name": "FloatProgressModel",
          "state": {
            "_view_name": "ProgressView",
            "style": "IPY_MODEL_2df3f0801f2645ccb24fa84e07d0696a",
            "_dom_classes": [],
            "description": "Dl Size...:   8%",
            "_model_name": "FloatProgressModel",
            "bar_style": "info",
            "max": 1,
            "_view_module": "@jupyter-widgets/controls",
            "_model_module_version": "1.5.0",
            "value": 1,
            "_view_count": null,
            "_view_module_version": "1.5.0",
            "orientation": "horizontal",
            "min": 0,
            "description_tooltip": null,
            "_model_module": "@jupyter-widgets/controls",
            "layout": "IPY_MODEL_a5084c7a8a8343e9aa07ac41ade2635a"
          }
        },
        "f469e2154f224f1caced121c6c30ef75": {
          "model_module": "@jupyter-widgets/controls",
          "model_name": "HTMLModel",
          "state": {
            "_view_name": "HTMLView",
            "style": "IPY_MODEL_3ffdd83514a547d98ed91c98ec5d4523",
            "_dom_classes": [],
            "description": "",
            "_model_name": "HTMLModel",
            "placeholder": "​",
            "_view_module": "@jupyter-widgets/controls",
            "_model_module_version": "1.5.0",
            "value": " 988/11992 [01:32&lt;16:04, 11.41 MiB/s]",
            "_view_count": null,
            "_view_module_version": "1.5.0",
            "description_tooltip": null,
            "_model_module": "@jupyter-widgets/controls",
            "layout": "IPY_MODEL_679116189b6c432798928e9900fb955e"
          }
        },
        "2df3f0801f2645ccb24fa84e07d0696a": {
          "model_module": "@jupyter-widgets/controls",
          "model_name": "ProgressStyleModel",
          "state": {
            "_view_name": "StyleView",
            "_model_name": "ProgressStyleModel",
            "description_width": "initial",
            "_view_module": "@jupyter-widgets/base",
            "_model_module_version": "1.5.0",
            "_view_count": null,
            "_view_module_version": "1.2.0",
            "bar_color": null,
            "_model_module": "@jupyter-widgets/controls"
          }
        },
        "a5084c7a8a8343e9aa07ac41ade2635a": {
          "model_module": "@jupyter-widgets/base",
          "model_name": "LayoutModel",
          "state": {
            "_view_name": "LayoutView",
            "grid_template_rows": null,
            "right": null,
            "justify_content": null,
            "_view_module": "@jupyter-widgets/base",
            "overflow": null,
            "_model_module_version": "1.2.0",
            "_view_count": null,
            "flex_flow": null,
            "width": null,
            "min_width": null,
            "border": null,
            "align_items": null,
            "bottom": null,
            "_model_module": "@jupyter-widgets/base",
            "top": null,
            "grid_column": null,
            "overflow_y": null,
            "overflow_x": null,
            "grid_auto_flow": null,
            "grid_area": null,
            "grid_template_columns": null,
            "flex": null,
            "_model_name": "LayoutModel",
            "justify_items": null,
            "grid_row": null,
            "max_height": null,
            "align_content": null,
            "visibility": null,
            "align_self": null,
            "height": null,
            "min_height": null,
            "padding": null,
            "grid_auto_rows": null,
            "grid_gap": null,
            "max_width": null,
            "order": null,
            "_view_module_version": "1.2.0",
            "grid_template_areas": null,
            "object_position": null,
            "object_fit": null,
            "grid_auto_columns": null,
            "margin": null,
            "display": null,
            "left": null
          }
        },
        "3ffdd83514a547d98ed91c98ec5d4523": {
          "model_module": "@jupyter-widgets/controls",
          "model_name": "DescriptionStyleModel",
          "state": {
            "_view_name": "StyleView",
            "_model_name": "DescriptionStyleModel",
            "description_width": "",
            "_view_module": "@jupyter-widgets/base",
            "_model_module_version": "1.5.0",
            "_view_count": null,
            "_view_module_version": "1.2.0",
            "_model_module": "@jupyter-widgets/controls"
          }
        },
        "679116189b6c432798928e9900fb955e": {
          "model_module": "@jupyter-widgets/base",
          "model_name": "LayoutModel",
          "state": {
            "_view_name": "LayoutView",
            "grid_template_rows": null,
            "right": null,
            "justify_content": null,
            "_view_module": "@jupyter-widgets/base",
            "overflow": null,
            "_model_module_version": "1.2.0",
            "_view_count": null,
            "flex_flow": null,
            "width": null,
            "min_width": null,
            "border": null,
            "align_items": null,
            "bottom": null,
            "_model_module": "@jupyter-widgets/base",
            "top": null,
            "grid_column": null,
            "overflow_y": null,
            "overflow_x": null,
            "grid_auto_flow": null,
            "grid_area": null,
            "grid_template_columns": null,
            "flex": null,
            "_model_name": "LayoutModel",
            "justify_items": null,
            "grid_row": null,
            "max_height": null,
            "align_content": null,
            "visibility": null,
            "align_self": null,
            "height": null,
            "min_height": null,
            "padding": null,
            "grid_auto_rows": null,
            "grid_gap": null,
            "max_width": null,
            "order": null,
            "_view_module_version": "1.2.0",
            "grid_template_areas": null,
            "object_position": null,
            "object_fit": null,
            "grid_auto_columns": null,
            "margin": null,
            "display": null,
            "left": null
          }
        }
      }
    }
  },
  "cells": [
    {
      "cell_type": "markdown",
      "metadata": {
        "id": "view-in-github",
        "colab_type": "text"
      },
      "source": [
        "<a href=\"https://colab.research.google.com/github/mbaddar1/wias_uq_rl/blob/master/vae/nb/CAE_Z_Posterior_Boostrapping_Images_datasets_v0.1_colab.ipynb\" target=\"_parent\"><img src=\"https://colab.research.google.com/assets/colab-badge.svg\" alt=\"Open In Colab\"/></a>"
      ]
    },
    {
      "cell_type": "code",
      "metadata": {
        "id": "genuine-hindu"
      },
      "source": [
        "# http://proceedings.mlr.press/v101/huang19a/huang19a.pdf\n",
        "# https://www.researchgate.net/publication/220875351_Generative_Models_for_Labeling_Multi-object_Configurations_in_Images\n",
        "# https://www.tensorflow.org/datasets/catalog/open_images_v4\n",
        "# Auto-Encoding Progressive Generative Adversarial Networks For 3D Multi Object Scenes"
      ],
      "id": "genuine-hindu",
      "execution_count": 3,
      "outputs": []
    },
    {
      "cell_type": "code",
      "metadata": {
        "id": "structured-surname"
      },
      "source": [
        "# TODO \n",
        "# for data set kitt (as AD case study) - for the built model \n",
        "# 1. report model loss for validation dataset - Done\n",
        "# 2. visualize reconstructed images - Done\n",
        "# 3. Grid search (K, cov type) for gaussian mixture log p comparison (or baysian parameter optimization) - SKIP\n",
        "# reason: nead to focus on core idea - GM is good other than G in Autonomous driving on a simplified case\n",
        "# 4. read about inf Gaussian mixture  https://www.seas.harvard.edu/courses/cs281/papers/rasmussen-1999a.pdf"
      ],
      "id": "structured-surname",
      "execution_count": 4,
      "outputs": []
    },
    {
      "cell_type": "code",
      "metadata": {
        "id": "resistant-survival",
        "outputId": "3a022693-059a-4373-b0af-b55787703af6",
        "colab": {
          "base_uri": "https://localhost:8080/"
        }
      },
      "source": [
        "%config Completer.use_jedi = False\n",
        "from ipywidgets import IntProgress\n",
        "import matplotlib.pyplot as plt\n",
        "from tensorflow.keras import layers, losses\n",
        "import matplotlib.pyplot as plt\n",
        "import numpy as np\n",
        "import tensorflow as tf\n",
        "import logging\n",
        "import tensorflow_datasets as tfds\n",
        "import pandas as pd\n",
        "from tqdm import tqdm_notebook as tqdm\n",
        "from sklearn.mixture import GaussianMixture\n",
        "import os\n",
        "\n",
        "seed = 1\n",
        "np.random.seed(1)\n",
        "tf.random.set_seed(1)"
      ],
      "id": "resistant-survival",
      "execution_count": 5,
      "outputs": [
        {
          "output_type": "stream",
          "text": [
            "/usr/local/lib/python3.7/dist-packages/ipykernel_launcher.py:1: UserWarning: Config option `use_jedi` not recognized by `IPCompleter`.\n",
            "  \"\"\"Entry point for launching an IPython kernel.\n"
          ],
          "name": "stderr"
        }
      ]
    },
    {
      "cell_type": "code",
      "metadata": {
        "id": "qrYLfIOL-Uzb",
        "outputId": "2668fd07-10be-4150-ca9a-b60ee2fd3e23",
        "colab": {
          "base_uri": "https://localhost:8080/"
        }
      },
      "source": [
        "device_name = tf.test.gpu_device_name()\n",
        "if device_name != '/device:GPU:0':\n",
        "  raise SystemError('GPU device not found')\n",
        "print('Found GPU at: {}'.format(device_name))"
      ],
      "id": "qrYLfIOL-Uzb",
      "execution_count": 6,
      "outputs": [
        {
          "output_type": "stream",
          "text": [
            "Found GPU at: /device:GPU:0\n"
          ],
          "name": "stdout"
        }
      ]
    },
    {
      "cell_type": "code",
      "metadata": {
        "id": "supported-consolidation"
      },
      "source": [
        "batch_size = 32\n",
        "epochs = 10\n",
        "dataset_name = 'kitti'"
      ],
      "id": "supported-consolidation",
      "execution_count": 7,
      "outputs": []
    },
    {
      "cell_type": "code",
      "metadata": {
        "scrolled": false,
        "id": "dressed-february",
        "outputId": "25b2e7ac-72fa-4759-d371-acfc08befb5e",
        "colab": {
          "base_uri": "https://localhost:8080/",
          "height": 98,
          "referenced_widgets": [
            "3e1728657c024005a34e861d570ca12b",
            "392557de12564bfdb86f7dc83ec3d5ad",
            "aad5e55083524a8496b587a1386ea898",
            "41d798e38a0a44cea73c74ffe4c7f684",
            "42f9d4bd963648ef8f33221c073d399e",
            "f62433d7d19c4918bbddcfa71cbbae80",
            "71edd01349124567a8c7f8ae305dbed7",
            "86cb99000a914ceabd3a8c119fe894d0",
            "f3856b928e9a4e88b7479fb4c0a2365b",
            "63b9fd745918446d99a78f0f506fe372",
            "5bd40093d88d44f3a9e2dd5206847884",
            "f469e2154f224f1caced121c6c30ef75",
            "2df3f0801f2645ccb24fa84e07d0696a",
            "a5084c7a8a8343e9aa07ac41ade2635a",
            "3ffdd83514a547d98ed91c98ec5d4523",
            "679116189b6c432798928e9900fb955e"
          ]
        }
      },
      "source": [
        "if dataset_name == 'bdd100k':\n",
        "    train_ds = tf.keras.preprocessing\\\n",
        "        .image_dataset_from_directory(directory='../data/bdd100k/images/10k/train1/',batch_size=batch_size)# train\n",
        "    test_ds = tf.keras.preprocessing\\\n",
        "        .image_dataset_from_directory(directory='../data/bdd100k/images/10k/test1/',batch_size=batch_size) # test\n",
        "    validation_ds = tf.keras.preprocessing\\\n",
        "        .image_dataset_from_directory(directory='../data/bdd100k/images/10k/val1/',batch_size=batch_size) # validation\n",
        "else:\n",
        "    train_ds,test_ds,validation_ds = tfds.load(name=dataset_name,split=['train', 'test','validation']\\\n",
        "                                               ,as_supervised=False,download=True)"
      ],
      "id": "dressed-february",
      "execution_count": null,
      "outputs": [
        {
          "output_type": "stream",
          "text": [
            "\u001b[1mDownloading and preparing dataset kitti/3.2.0 (download: 11.71 GiB, generated: 5.27 GiB, total: 16.98 GiB) to /root/tensorflow_datasets/kitti/3.2.0...\u001b[0m\n"
          ],
          "name": "stdout"
        },
        {
          "output_type": "display_data",
          "data": {
            "application/vnd.jupyter.widget-view+json": {
              "model_id": "3e1728657c024005a34e861d570ca12b",
              "version_minor": 0,
              "version_major": 2
            },
            "text/plain": [
              "HBox(children=(FloatProgress(value=1.0, bar_style='info', description='Dl Completed...', max=1.0, style=Progre…"
            ]
          },
          "metadata": {
            "tags": []
          }
        },
        {
          "output_type": "display_data",
          "data": {
            "application/vnd.jupyter.widget-view+json": {
              "model_id": "f3856b928e9a4e88b7479fb4c0a2365b",
              "version_minor": 0,
              "version_major": 2
            },
            "text/plain": [
              "HBox(children=(FloatProgress(value=1.0, bar_style='info', description='Dl Size...', max=1.0, style=ProgressSty…"
            ]
          },
          "metadata": {
            "tags": []
          }
        }
      ]
    },
    {
      "cell_type": "code",
      "metadata": {
        "scrolled": false,
        "id": "postal-legend"
      },
      "source": [
        "if dataset_name == 'bdd100k':\n",
        "    dims = [x[0].get_shape().as_list() for x in train_ds]\n",
        "    dims_df= pd.DataFrame.from_records(data=dims,columns=['batch','height','width','depth'])\n",
        "else:\n",
        "    dims = [x['image'].get_shape().as_list() for x in train_ds]\n",
        "    dims_df= pd.DataFrame.from_records(data=dims,columns=['height','width','depth'])\n",
        "dims_df.describe()"
      ],
      "id": "postal-legend",
      "execution_count": null,
      "outputs": []
    },
    {
      "cell_type": "code",
      "metadata": {
        "scrolled": true,
        "id": "acquired-boston"
      },
      "source": [
        "height = 2**(int(np.log2(min(dims_df['height']))))\n",
        "width = 2**(int(np.log2(min(dims_df['width']))))\n",
        "height,width = min(height,width),min(height,width)\n",
        "height,width"
      ],
      "id": "acquired-boston",
      "execution_count": null,
      "outputs": []
    },
    {
      "cell_type": "code",
      "metadata": {
        "id": "norwegian-sequence"
      },
      "source": [
        "if dataset_name == 'bdd100k':\n",
        "    train_ds = train_ds.map(lambda x0,x1: x0/255.)\n",
        "    test_ds = test_ds.map(lambda x0,x1: x0/255.)\n",
        "    validation_ds = validation_ds.map(lambda x0,x1: x0/255.)\n",
        "else:\n",
        "    \n",
        "    train_ds = train_ds.map(lambda x: tf.image.resize(images=tf.cast(x['image'],dtype=tf.float32)/255.,\\\n",
        "                                                      size=[height,width]))\n",
        "    train_ds = train_ds.batch(batch_size,drop_remainder=True)\n",
        "    ###\n",
        "    test_ds = test_ds.map(lambda x: tf.image.resize(tf.cast(x['image'],dtype=tf.float32)/255.,\\\n",
        "                                                    size=[height,width]))\n",
        "    test_ds = test_ds.batch(batch_size,drop_remainder=True)\n",
        "    ###\n",
        "    validation_ds = validation_ds.map(lambda x: tf.image.resize(tf.cast(x['image'],dtype=tf.float32)/255.\\\n",
        "                                                                ,size=[height,width]))\n",
        "    validation_ds = validation_ds.batch(batch_size,drop_remainder=True)\n",
        "\n",
        "###\n",
        "train_ds_double_zipped = tf.data.Dataset.zip(datasets=(train_ds,train_ds))\n",
        "test_ds_double_zipped = tf.data.Dataset.zip(datasets=(test_ds,test_ds))\n",
        "validation_ds_double_zipped = tf.data.Dataset.zip(datasets=(validation_ds,validation_ds))\n",
        "    "
      ],
      "id": "norwegian-sequence",
      "execution_count": null,
      "outputs": []
    },
    {
      "cell_type": "code",
      "metadata": {
        "scrolled": true,
        "id": "specified-teddy"
      },
      "source": [
        "latent_dim = 4096\n",
        "class CAE(tf.keras.Model):\n",
        "    \"\"\"Convolutional variational autoencoder.\"\"\"\n",
        "\n",
        "    def __init__(self, latent_dim):\n",
        "        super(CAE, self).__init__()\n",
        "        self.latent_dim = latent_dim\n",
        "        self.logger = logging.getLogger('CAE')\n",
        "        self.encoder = tf.keras.Sequential(name='encoder',layers=\\\n",
        "            [\n",
        "                tf.keras.layers.InputLayer(input_shape=(height, width, 3)),\n",
        "                tf.keras.layers.Conv2D(\n",
        "                    filters=32, kernel_size=3, strides=(2, 2), activation='relu'),\n",
        "                tf.keras.layers.Conv2D(\n",
        "                    filters=64, kernel_size=3, strides=(2, 2), activation='relu'),\n",
        "                tf.keras.layers.Flatten(),\n",
        "                # No activation\n",
        "                tf.keras.layers.Dense(latent_dim),\n",
        "            ]\n",
        "        )\n",
        "\n",
        "        self.decoder = tf.keras.Sequential(name='decoder',layers=\\\n",
        "            [\n",
        "                tf.keras.layers.InputLayer(input_shape=(latent_dim,)),\n",
        "                tf.keras.layers.Dense(units=int(height/4) * int(width/4) * 32, activation=tf.nn.relu),\n",
        "                tf.keras.layers.Reshape(target_shape=(int(height/4), int(width/4), 32)),\n",
        "                tf.keras.layers.Conv2DTranspose(\n",
        "                    filters=64, kernel_size=3, strides=2, padding='same',\n",
        "                    activation='relu'),\n",
        "                tf.keras.layers.Conv2DTranspose(\n",
        "                    filters=32, kernel_size=3, strides=2, padding='same',\n",
        "                    activation='relu'),\n",
        "                # No activation\n",
        "                tf.keras.layers.Conv2DTranspose(\n",
        "                    filters=3, kernel_size=3, strides=1, padding='same'),\n",
        "            ]\n",
        "        )\n",
        "\n",
        "        self.encoder.summary()\n",
        "        self.decoder.summary()\n",
        "        \n",
        "        \n",
        "    def call(self, x):\n",
        "        encoded = self.encoder(x)\n",
        "        decoded = self.decoder(encoded)\n",
        "        return decoded\n",
        "\n",
        "\n",
        "cae = CAE(latent_dim)\n",
        "cae.compile(optimizer='adam', loss=losses.MeanSquaredError())"
      ],
      "id": "specified-teddy",
      "execution_count": null,
      "outputs": []
    },
    {
      "cell_type": "code",
      "metadata": {
        "id": "fifteen-benefit"
      },
      "source": [
        "model_file_path = f'./models/cae_dataset_{dataset_name}_z_dim_{latent_dim}'\n",
        "print(f'model path = {model_file_path}')"
      ],
      "id": "fifteen-benefit",
      "execution_count": null,
      "outputs": []
    },
    {
      "cell_type": "code",
      "metadata": {
        "id": "correct-belly"
      },
      "source": [
        "if os.path.exists(model_file_path):\n",
        "    print('loading saved model')\n",
        "    cae = tf.keras.models.load_model(filepath=model_file_path)\n",
        "else:\n",
        "    print('building model')\n",
        "    # use checkpoints to save model fitting progress\n",
        "    # https://www.tensorflow.org/api_docs/python/tf/keras/callbacks/ModelCheckpoint\n",
        "    checkpoint_filepath = './checkpoint'\n",
        "    model_checkpoint_callback = tf.keras.callbacks.ModelCheckpoint(\n",
        "        filepath=checkpoint_filepath,\n",
        "        save_weights_only=True,\n",
        "        monitor='val_loss',\n",
        "        mode='max',\n",
        "        save_best_only=True)\n",
        "    # Model weights are saved at the end of every epoch, if it's the best seen\n",
        "    # so far.\n",
        "    cae.fit(x=train_ds_double_zipped,validation_data=test_ds_double_zipped,epochs=epochs,\\\n",
        "            callbacks=[model_checkpoint_callback])\n",
        "    # The model weights (that are considered the best) are loaded into the model.\n",
        "    cae.load_weights(checkpoint_filepath)\n",
        "    print('saving model')\n",
        "    cae.save(filepath=model_file_path)"
      ],
      "id": "correct-belly",
      "execution_count": null,
      "outputs": []
    },
    {
      "cell_type": "code",
      "metadata": {
        "id": "after-rainbow"
      },
      "source": [
        "# create valdation dataset tensor\n",
        "for e in validation_ds.take(1):\n",
        "    initial_state = tf.zeros(dtype=tf.float32,shape=e.shape)\n",
        "validation_ds_tensor = validation_ds.\\\n",
        "        reduce(initial_state=initial_state,reduce_func=lambda x,y: tf.concat(values=[x,y],axis=0))\n",
        "validation_ds_tensor = validation_ds_tensor[batch_size:] # drop dummy initial state"
      ],
      "id": "after-rainbow",
      "execution_count": null,
      "outputs": []
    },
    {
      "cell_type": "code",
      "metadata": {
        "id": "proved-richards"
      },
      "source": [
        "# calculate loss, can be compare over different dataset due to data scaling from 0 to 1\n",
        "y_predicted = cae.predict(validation_ds)\n",
        "cae_loss = cae.loss(y_pred=y_predicted,y_true=validation_ds_tensor).numpy()\n",
        "print(f'CAE loss for dataset {dataset_name} = {np.round(cae_loss,4)}')"
      ],
      "id": "proved-richards",
      "execution_count": null,
      "outputs": []
    },
    {
      "cell_type": "code",
      "metadata": {
        "id": "human-pregnancy"
      },
      "source": [
        "# plot decoded images\n",
        "\n",
        "for batch in validation_ds.take(1):\n",
        "        z = cae.encoder(batch).numpy()\n",
        "        decoded_imgs = cae.decoder(z).numpy()\n",
        "        \n",
        "        for i in range(batch.shape[0]):\n",
        "            fig, (ax1, ax2) = plt.subplots(1, 2)\n",
        "            ax1.imshow(batch[i])\n",
        "            ax2.imshow(decoded_imgs[i])\n",
        "          \n"
      ],
      "id": "human-pregnancy",
      "execution_count": null,
      "outputs": []
    },
    {
      "cell_type": "code",
      "metadata": {
        "scrolled": false,
        "id": "extensive-cooperation"
      },
      "source": [
        "# getting z tensor\n",
        "z_tensor = None\n",
        "\n",
        "inf_or_unknown_cardinality = ((test_ds.cardinality()==tf.data.INFINITE_CARDINALITY)\\\n",
        "    or (test_ds.cardinality() == tf.data.UNKNOWN_CARDINALITY)).numpy()\n",
        "batches = test_ds.cardinality().numpy() if not inf_or_unknown_cardinality else 500\n",
        "\n",
        "with tqdm(total=batches) as pbar:\n",
        "    for batch in test_ds.take(batches):\n",
        "        z = cae.encoder(batch).numpy()\n",
        "        if z_tensor is None:\n",
        "            z_tensor = tf.convert_to_tensor(z)\n",
        "        else:\n",
        "            z_tensor = tf.concat([z_tensor,tf.convert_to_tensor(z)],axis=0)\n",
        "        pbar.update(1)\n",
        "        #print(f'z shape {z.shape}')\n",
        "#         decoded_imgs = cae.decoder(z).numpy()\n",
        "#         #print(f'decoded images shape {decoded_imgs[0].shape}')\n",
        "#         plt.imshow(batch[0])\n",
        "#         plt.show()\n",
        "#         plt.imshow(decoded_imgs[0])\n",
        "#         plt.show()\n",
        "z_tensor.shape"
      ],
      "id": "extensive-cooperation",
      "execution_count": null,
      "outputs": []
    },
    {
      "cell_type": "code",
      "metadata": {
        "id": "lovely-alert"
      },
      "source": [
        "z_np= z_tensor.numpy()\n",
        "n_z = z_np.shape[0]\n",
        "n_z_train = int(0.8*n_z)\n",
        "z_train = z_np[:n_z_train]\n",
        "z_test = z_np[n_z_train:]"
      ],
      "id": "lovely-alert",
      "execution_count": null,
      "outputs": []
    },
    {
      "cell_type": "code",
      "metadata": {
        "id": "alleged-sequence"
      },
      "source": [
        "\n",
        "random_state = 1\n",
        "reg_covar = 0.1\n",
        "cov_type = 'diag'\n",
        "\n",
        "print(f\"\"\"For Dateset \"{dataset_name}\" Calculating relative difference of log likelihood  \"\"\")\n",
        "print(f'Latent_dim = {latent_dim}, Gaussiam Mixture covariance type = {cov_type} and reg_covar = {reg_covar}   ')\n",
        "print('############################  ')\n",
        "\n",
        "\n",
        "g_fit = GaussianMixture(n_components=1,covariance_type=cov_type,random_state=1,reg_covar=reg_covar).fit(z_train)\n",
        "logp_g = g_fit.score(X=z_test)\n",
        "for k in [10,20,50,70,80,100,200]:\n",
        "    try:\n",
        "        gm_fit = GaussianMixture(n_components=k,covariance_type=cov_type,random_state=random_state,\\\n",
        "                                 reg_covar=reg_covar).fit(z_train)\n",
        "        logp_gm = gm_fit.score(X=z_test)\n",
        "\n",
        "        rel_diff_logps = (logp_gm- logp_g) / np.abs(logp_g)\n",
        "        print(f'logp Gaussin Mixture with k = {k} = {logp_gm}  ')\n",
        "        print(f'logp Gaussian Diagonal = {logp_g}  ')\n",
        "        print(f'At k = {k} , rel_diff for logps = {rel_diff_logps}  ')\n",
        "        print('##############  ')\n",
        "    except Exception as e:\n",
        "        print(f'Catched expection {e}  ')"
      ],
      "id": "alleged-sequence",
      "execution_count": null,
      "outputs": []
    },
    {
      "cell_type": "markdown",
      "metadata": {
        "id": "racial-beast"
      },
      "source": [
        "## Results"
      ],
      "id": "racial-beast"
    },
    {
      "cell_type": "markdown",
      "metadata": {
        "id": "athletic-haven"
      },
      "source": [
        "**For Dateset \"kitti\" Calculating relative difference of log likelihood**  \n",
        "Latent_dim = 64, Gaussiam Mixture covariance type = diag and reg_covar = 0.1   \n",
        "############################  \n",
        "logp Gaussin Mixture with k = 10 = -75.45441572317257  \n",
        "logp Gaussian Diagonal = -115.44620189247304  \n",
        "At k = 10 , rel_diff for logps = 0.346410583576833  \n",
        "##############  \n",
        "logp Gaussin Mixture with k = 20 = -69.64451526564827  \n",
        "logp Gaussian Diagonal = -115.44620189247304  \n",
        "At k = 20 , rel_diff for logps = 0.39673619292806717  \n",
        "##############  \n",
        "logp Gaussin Mixture with k = 50 = -55.93752814502553  \n",
        "logp Gaussian Diagonal = -115.44620189247304  \n",
        "At k = 50 , rel_diff for logps = 0.5154667089253753  \n",
        "##############  \n",
        "logp Gaussin Mixture with k = 70 = -50.88304211844375  \n",
        "logp Gaussian Diagonal = -115.44620189247304  \n",
        "At k = 70 , rel_diff for logps = 0.559248885763809  \n",
        "##############  \n",
        "logp Gaussin Mixture with k = 80 = -52.1276428852566  \n",
        "logp Gaussian Diagonal = -115.44620189247304  \n",
        "At k = 80 , rel_diff for logps = 0.5484681000262923  \n",
        "##############  \n",
        "logp Gaussin Mixture with k = 100 = -54.52694195135895  \n",
        "logp Gaussian Diagonal = -115.44620189247304  \n",
        "At k = 100 , rel_diff for logps = 0.5276852676180243  \n",
        "##############  \n",
        "logp Gaussin Mixture with k = 200 = -68.2897651271402  \n",
        "logp Gaussian Diagonal = -115.44620189247304  \n",
        "At k = 200 , rel_diff for logps = 0.40847109729304476  \n",
        "##############  "
      ],
      "id": "athletic-haven"
    },
    {
      "cell_type": "markdown",
      "metadata": {
        "id": "moderate-donor"
      },
      "source": [
        "**For Dateset VOC Calculating relative difference of log likelihood**  \n",
        "############################  \n",
        "logp Gaussin Mixture with k = 10 = 3239.302399019124  \n",
        "logp Gaussian Diagonal = 2790.16976645871  \n",
        "At k = 10 , rel_diff for logps = 0.16096964348174925  \n",
        "##############  \n",
        "logp Gaussin Mixture with k = 20 = 3334.117578802105  \n",
        "logp Gaussian Diagonal = 2790.16976645871  \n",
        "At k = 20 , rel_diff for logps = 0.19495151115259016  \n",
        "##############  \n",
        "logp Gaussin Mixture with k = 50 = 3411.8171131494596  \n",
        "logp Gaussian Diagonal = 2790.16976645871  \n",
        "At k = 50 , rel_diff for logps = 0.22279911214138984  \n",
        "##############  \n",
        "logp Gaussin Mixture with k = 70 = 3429.9682203595194  \n",
        "logp Gaussian Diagonal = 2790.16976645871  \n",
        "At k = 70 , rel_diff for logps = 0.22930448949450236  \n",
        "##############  \n",
        "logp Gaussin Mixture with k = 100 = 3428.6442835155385  \n",
        "logp Gaussian Diagonal = 2790.16976645871  \n",
        "At k = 100 , rel_diff for logps = 0.22882998903223795  \n",
        "##############  \n",
        "logp Gaussin Mixture with k = 200 = 3415.867706729245  \n",
        "logp Gaussian Diagonal = 2790.16976645871  \n",
        "At k = 200 , rel_diff for logps = 0.22425084946163418  \n",
        "##############  "
      ],
      "id": "moderate-donor"
    },
    {
      "cell_type": "markdown",
      "metadata": {
        "id": "polished-migration"
      },
      "source": [
        "**For Dateset wider_face Calculating relative difference of log likelihood**    \n",
        "############################  \n",
        "logp Gaussin Mixture with k = 10 = 1726.1243177708377  \n",
        "logp Gaussian Diagonal = 1561.8860242887904  \n",
        "At k = 10 , rel_diff for logps = 0.10515382744194393  \n",
        "##############  \n",
        "logp Gaussin Mixture with k = 20 = 1751.7959812169918  \n",
        "logp Gaussian Diagonal = 1561.8860242887904  \n",
        "At k = 20 , rel_diff for logps = 0.1215901506095347  \n",
        "##############  \n",
        "logp Gaussin Mixture with k = 50 = 1776.35932923814  \n",
        "logp Gaussian Diagonal = 1561.8860242887904  \n",
        "At k = 50 , rel_diff for logps = 0.13731687307145898  \n",
        "##############  \n",
        "Catched expection Fitting the mixture model failed because some components have ill-defined empirical covariance (for instance caused by singleton or collapsed samples). Try to decrease the number of components, or increase reg_covar.  \n",
        "Catched expection Fitting the mixture model failed because some components have ill-defined empirical covariance (for instance caused by singleton or collapsed samples). Try to decrease the number of components, or increase reg_covar.  \n",
        "Catched expection Fitting the mixture model failed because some components have ill-defined empirical covariance (for instance caused by singleton or collapsed samples). Try to decrease the number of components, or increase reg_covar.  \n",
        "\n"
      ],
      "id": "polished-migration"
    },
    {
      "cell_type": "markdown",
      "metadata": {
        "id": "experimental-sixth"
      },
      "source": [
        "**For Dateset \"mnist\" Calculating relative difference of log likelihood**  \n",
        "############################  \n",
        "logp Gaussin Mixture with k = 10 = 7841.956234385311  \n",
        "logp Gaussian Diagonal = 7377.442821602376  \n",
        "At k = 10 , rel_diff for logps = 0.06296401395653828  \n",
        "##############  \n",
        "logp Gaussin Mixture with k = 20 = 7988.197403977028  \n",
        "logp Gaussian Diagonal = 7377.442821602376  \n",
        "At k = 20 , rel_diff for logps = 0.08278675919876485  \n",
        "##############  \n",
        "logp Gaussin Mixture with k = 50 = 8243.583374395243  \n",
        "logp Gaussian Diagonal = 7377.442821602376  \n",
        "At k = 50 , rel_diff for logps = 0.11740389912025657  \n",
        "##############  \n",
        "logp Gaussin Mixture with k = 70 = 8305.125097353703  \n",
        "logp Gaussian Diagonal = 7377.442821602376  \n",
        "At k = 70 , rel_diff for logps = 0.12574577644098017  \n",
        "##############  \n",
        "logp Gaussin Mixture with k = 100 = 8385.913961674707  \n",
        "logp Gaussian Diagonal = 7377.442821602376  \n",
        "At k = 100 , rel_diff for logps = 0.1366965714894272  \n",
        "##############  \n",
        "logp Gaussin Mixture with k = 200 = 8500.999476912375  \n",
        "logp Gaussian Diagonal = 7377.442821602376  \n",
        "At k = 200 , rel_diff for logps = 0.15229622004253812  \n",
        "##############  "
      ],
      "id": "experimental-sixth"
    },
    {
      "cell_type": "markdown",
      "metadata": {
        "id": "amino-harassment"
      },
      "source": [
        "**For Dateset \"cifar100\" Calculating relative difference of log likelihood**  \n",
        "############################  \n",
        "logp Gaussin Mixture with k = 10 = 4348.738804362613  \n",
        "logp Gaussian Diagonal = 4039.8092947584987  \n",
        "At k = 10 , rel_diff for logps = 0.07647131016925454  \n",
        "##############  \n",
        "logp Gaussin Mixture with k = 20 = 4384.332721210587  \n",
        "logp Gaussian Diagonal = 4039.8092947584987  \n",
        "At k = 20 , rel_diff for logps = 0.08528210153362795  \n",
        "##############  \n",
        "logp Gaussin Mixture with k = 50 = 4422.78147918955  \n",
        "logp Gaussian Diagonal = 4039.8092947584987  \n",
        "At k = 50 , rel_diff for logps = 0.09479957010048548  \n",
        "##############  \n",
        "logp Gaussin Mixture with k = 70 = 4428.119142994677  \n",
        "logp Gaussian Diagonal = 4039.8092947584987  \n",
        "At k = 70 , rel_diff for logps = 0.09612083638205283  \n",
        "##############  \n",
        "logp Gaussin Mixture with k = 100 = 4425.925444793071  \n",
        "logp Gaussian Diagonal = 4039.8092947584987  \n",
        "At k = 100 , rel_diff for logps = 0.09557781614482229  \n",
        "##############  \n",
        "logp Gaussin Mixture with k = 200 = 4424.68448280697  \n",
        "logp Gaussian Diagonal = 4039.8092947584987  \n",
        "At k = 200 , rel_diff for logps = 0.09527063283601832  \n",
        "##############  "
      ],
      "id": "amino-harassment"
    }
  ]
}