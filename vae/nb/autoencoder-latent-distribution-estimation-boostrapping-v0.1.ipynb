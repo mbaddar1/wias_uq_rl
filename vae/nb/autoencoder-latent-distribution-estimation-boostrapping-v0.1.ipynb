{
 "cells": [
  {
   "cell_type": "markdown",
   "metadata": {
    "id": "Ndo4ERqnwQOU"
   },
   "source": [
    "##### Copyright 2020 The TensorFlow Authors."
   ]
  },
  {
   "cell_type": "code",
   "execution_count": 1,
   "metadata": {
    "cellView": "form",
    "execution": {
     "iopub.execute_input": "2021-01-13T02:23:24.979596Z",
     "iopub.status.busy": "2021-01-13T02:23:24.978946Z",
     "iopub.status.idle": "2021-01-13T02:23:24.981419Z",
     "shell.execute_reply": "2021-01-13T02:23:24.980886Z"
    },
    "id": "MTKwbguKwT4R"
   },
   "outputs": [],
   "source": [
    "#@title Licensed under the Apache License, Version 2.0 (the \"License\");\n",
    "# you may not use this file except in compliance with the License.\n",
    "# You may obtain a copy of the License at\n",
    "#\n",
    "# https://www.apache.org/licenses/LICENSE-2.0\n",
    "#\n",
    "# Unless required by applicable law or agreed to in writing, software\n",
    "# distributed under the License is distributed on an \"AS IS\" BASIS,\n",
    "# WITHOUT WARRANTIES OR CONDITIONS OF ANY KIND, either express or implied.\n",
    "# See the License for the specific language governing permissions and\n",
    "# limitations under the License."
   ]
  },
  {
   "cell_type": "markdown",
   "metadata": {
    "id": "xfNT-mlFwxVM"
   },
   "source": [
    "# Intro to Autoencoders"
   ]
  },
  {
   "cell_type": "markdown",
   "metadata": {
    "id": "0TD5ZrvEMbhZ"
   },
   "source": [
    "<table class=\"tfo-notebook-buttons\" align=\"left\">\n",
    "  <td>\n",
    "    <a target=\"_blank\" href=\"https://www.tensorflow.org/tutorials/generative/autoencoder\">\n",
    "    <img src=\"https://www.tensorflow.org/images/tf_logo_32px.png\" />\n",
    "    View on TensorFlow.org</a>\n",
    "  </td>\n",
    "  <td>\n",
    "    <a target=\"_blank\" href=\"https://colab.research.google.com/github/tensorflow/docs/blob/master/site/en/tutorials/generative/autoencoder.ipynb\">\n",
    "    <img src=\"https://www.tensorflow.org/images/colab_logo_32px.png\" />\n",
    "    Run in Google Colab</a>\n",
    "  </td>\n",
    "  <td>\n",
    "    <a target=\"_blank\" href=\"https://github.com/tensorflow/docs/blob/master/site/en/tutorials/generative/autoencoder.ipynb\">\n",
    "    <img src=\"https://www.tensorflow.org/images/GitHub-Mark-32px.png\" />\n",
    "    View source on GitHub</a>\n",
    "  </td>\n",
    "  <td>\n",
    "    <a href=\"https://storage.googleapis.com/tensorflow_docs/docs/site/en/tutorials/generative/autoencoder.ipynb\"><img src=\"https://www.tensorflow.org/images/download_logo_32px.png\" />Download notebook</a>\n",
    "  </td>\n",
    "</table>"
   ]
  },
  {
   "cell_type": "markdown",
   "metadata": {
    "id": "ITZuApL56Mny"
   },
   "source": [
    "This tutorial introduces autoencoders with three examples: the basics, image denoising, and anomaly detection.\n",
    "\n",
    "An autoencoder is a special type of neural network that is trained to copy its input to its output. For example, given an image of a handwritten digit, an autoencoder first encodes the image into a lower dimensional latent representation, then decodes the latent representation back to an image. An autoencoder learns to compress the data while minimizing the reconstruction error. \n",
    "\n",
    "To learn more about autoencoders, please consider reading chapter 14 from [Deep Learning](https://www.deeplearningbook.org/) by Ian Goodfellow, Yoshua Bengio, and Aaron Courville."
   ]
  },
  {
   "cell_type": "markdown",
   "metadata": {
    "id": "e1_Y75QXJS6h"
   },
   "source": [
    "## Import TensorFlow and other libraries"
   ]
  },
  {
   "cell_type": "code",
   "execution_count": 2,
   "metadata": {
    "execution": {
     "iopub.execute_input": "2021-01-13T02:23:24.991125Z",
     "iopub.status.busy": "2021-01-13T02:23:24.990418Z",
     "iopub.status.idle": "2021-01-13T02:23:32.633598Z",
     "shell.execute_reply": "2021-01-13T02:23:32.632908Z"
    },
    "id": "YfIk2es3hJEd"
   },
   "outputs": [],
   "source": [
    "%config Completer.use_jedi = False\n",
    "\n",
    "import logging\n",
    "import matplotlib.pyplot as plt\n",
    "import numpy as np\n",
    "import pandas as pd\n",
    "import tensorflow as tf\n",
    "import tensorflow_transform as tft\n",
    "import tensorflow_transform.beam.impl as tft_beam\n",
    "from sklearn.metrics import accuracy_score, precision_score, recall_score\n",
    "from sklearn.model_selection import train_test_split\n",
    "from tensorflow.keras import layers, losses\n",
    "from tensorflow.keras.datasets import fashion_mnist\n",
    "from tensorflow.keras.models import Model\n",
    "import tensorflow_probability as tfp\n",
    "import tensorflow_transform as tft\n",
    "from sklearn.decomposition import PCA\n",
    "from sklearn.preprocessing import StandardScaler\n",
    "seed = 100\n",
    "np.random.seed(seed)\n",
    "tf.random.set_seed(seed)"
   ]
  },
  {
   "cell_type": "markdown",
   "metadata": {
    "id": "iYn4MdZnKCey"
   },
   "source": [
    "## Load the dataset\n",
    "To start, you will train the basic autoencoder using the Fashon MNIST dataset. Each image in this dataset is 28x28 pixels. "
   ]
  },
  {
   "cell_type": "code",
   "execution_count": 3,
   "metadata": {
    "execution": {
     "iopub.execute_input": "2021-01-13T02:23:32.640293Z",
     "iopub.status.busy": "2021-01-13T02:23:32.639570Z",
     "iopub.status.idle": "2021-01-13T02:23:33.526761Z",
     "shell.execute_reply": "2021-01-13T02:23:33.526222Z"
    },
    "id": "YZm503-I_tji"
   },
   "outputs": [
    {
     "name": "stdout",
     "output_type": "stream",
     "text": [
      "(60000, 28, 28)\n",
      "(10000, 28, 28)\n"
     ]
    }
   ],
   "source": [
    "(x_train, _), (x_test, _) = fashion_mnist.load_data()\n",
    "\n",
    "x_train = x_train.astype('float32') / 255.\n",
    "x_test = x_test.astype('float32') / 255.\n",
    "\n",
    "print (x_train.shape)\n",
    "print (x_test.shape)"
   ]
  },
  {
   "cell_type": "markdown",
   "metadata": {
    "id": "VEdCXSwCoKok"
   },
   "source": [
    "## First example: Basic autoencoder\n",
    "![Basic autoencoder results](images/intro_autoencoder_result.png)\n",
    "\n",
    "Define an autoencoder with two Dense layers: an `encoder`, which compresses the images into a 64 dimensional latent vector, and a `decoder`, that reconstructs the original image from the latent space.\n",
    "\n",
    "To define your model, use the [Keras Model Subclassing API](https://www.tensorflow.org/guide/keras/custom_layers_and_models).\n"
   ]
  },
  {
   "cell_type": "code",
   "execution_count": 4,
   "metadata": {
    "execution": {
     "iopub.execute_input": "2021-01-13T02:23:33.534279Z",
     "iopub.status.busy": "2021-01-13T02:23:33.533559Z",
     "iopub.status.idle": "2021-01-13T02:23:35.310668Z",
     "shell.execute_reply": "2021-01-13T02:23:35.311200Z"
    },
    "id": "0MUxidpyChjX"
   },
   "outputs": [],
   "source": [
    "latent_dim = 16\n",
    "\n",
    "class Autoencoder(Model):\n",
    "  def __init__(self, latent_dim):\n",
    "    super(Autoencoder, self).__init__()\n",
    "    self.latent_dim = latent_dim   \n",
    "    self.encoder = tf.keras.Sequential([\n",
    "      layers.Flatten(),\n",
    "      layers.Dense(latent_dim, activation='relu'),\n",
    "    ])\n",
    "    self.decoder = tf.keras.Sequential([\n",
    "      layers.Dense(784, activation='sigmoid'),\n",
    "      layers.Reshape((28, 28))\n",
    "    ])\n",
    "\n",
    "  def call(self, x):\n",
    "    encoded = self.encoder(x)\n",
    "    decoded = self.decoder(encoded)\n",
    "    return decoded\n",
    "  \n",
    "autoencoder = Autoencoder(latent_dim) "
   ]
  },
  {
   "cell_type": "code",
   "execution_count": 5,
   "metadata": {
    "execution": {
     "iopub.execute_input": "2021-01-13T02:23:35.325345Z",
     "iopub.status.busy": "2021-01-13T02:23:35.324605Z",
     "iopub.status.idle": "2021-01-13T02:23:35.335854Z",
     "shell.execute_reply": "2021-01-13T02:23:35.335343Z"
    },
    "id": "9I1JlqEIDCI4"
   },
   "outputs": [],
   "source": [
    "autoencoder.compile(optimizer='adam', loss=losses.MeanSquaredError())"
   ]
  },
  {
   "cell_type": "markdown",
   "metadata": {
    "id": "7oJSeMTroABs"
   },
   "source": [
    "Train the model using `x_train` as both the input and the target. The `encoder` will learn to compress the dataset from 784 dimensions to the latent space, and the `decoder` will learn to reconstruct the original images.\n",
    "."
   ]
  },
  {
   "cell_type": "code",
   "execution_count": 6,
   "metadata": {
    "execution": {
     "iopub.execute_input": "2021-01-13T02:23:35.341976Z",
     "iopub.status.busy": "2021-01-13T02:23:35.339844Z",
     "iopub.status.idle": "2021-01-13T02:24:04.874837Z",
     "shell.execute_reply": "2021-01-13T02:24:04.875310Z"
    },
    "id": "h1RI9OfHDBsK"
   },
   "outputs": [
    {
     "name": "stdout",
     "output_type": "stream",
     "text": [
      "Epoch 1/10\n",
      "1875/1875 [==============================] - 2s 1ms/step - loss: 0.0518 - val_loss: 0.0211\n",
      "Epoch 2/10\n",
      "1875/1875 [==============================] - 1s 739us/step - loss: 0.0201 - val_loss: 0.0184\n",
      "Epoch 3/10\n",
      "1875/1875 [==============================] - 1s 739us/step - loss: 0.0182 - val_loss: 0.0180\n",
      "Epoch 4/10\n",
      "1875/1875 [==============================] - 1s 718us/step - loss: 0.0179 - val_loss: 0.0178\n",
      "Epoch 5/10\n",
      "1875/1875 [==============================] - 1s 706us/step - loss: 0.0177 - val_loss: 0.0177\n",
      "Epoch 6/10\n",
      "1875/1875 [==============================] - 1s 712us/step - loss: 0.0176 - val_loss: 0.0176\n",
      "Epoch 7/10\n",
      "1875/1875 [==============================] - 1s 705us/step - loss: 0.0175 - val_loss: 0.0176\n",
      "Epoch 8/10\n",
      "1875/1875 [==============================] - 1s 703us/step - loss: 0.0175 - val_loss: 0.0175\n",
      "Epoch 9/10\n",
      "1875/1875 [==============================] - 1s 700us/step - loss: 0.0174 - val_loss: 0.0175\n",
      "Epoch 10/10\n",
      "1875/1875 [==============================] - 1s 702us/step - loss: 0.0175 - val_loss: 0.0175\n"
     ]
    },
    {
     "data": {
      "text/plain": [
       "<tensorflow.python.keras.callbacks.History at 0x7fd5f2e03438>"
      ]
     },
     "execution_count": 6,
     "metadata": {},
     "output_type": "execute_result"
    }
   ],
   "source": [
    "autoencoder.fit(x_train, x_train,\n",
    "                epochs=10,\n",
    "                shuffle=True,\n",
    "                validation_data=(x_test, x_test))"
   ]
  },
  {
   "cell_type": "markdown",
   "metadata": {
    "id": "wAM1QBhtoC-n"
   },
   "source": [
    "Now that the model is trained, let's test it by encoding and decoding images from the test set."
   ]
  },
  {
   "cell_type": "code",
   "execution_count": 7,
   "metadata": {
    "execution": {
     "iopub.execute_input": "2021-01-13T02:24:04.899566Z",
     "iopub.status.busy": "2021-01-13T02:24:04.898808Z",
     "iopub.status.idle": "2021-01-13T02:24:04.948566Z",
     "shell.execute_reply": "2021-01-13T02:24:04.947854Z"
    },
    "id": "Pbr5WCj7FQUi"
   },
   "outputs": [],
   "source": [
    "encoded_imgs = autoencoder.encoder(x_test).numpy()\n",
    "decoded_imgs = autoencoder.decoder(encoded_imgs).numpy()"
   ]
  },
  {
   "cell_type": "code",
   "execution_count": 8,
   "metadata": {
    "execution": {
     "iopub.execute_input": "2021-01-13T02:24:04.969875Z",
     "iopub.status.busy": "2021-01-13T02:24:04.967986Z",
     "iopub.status.idle": "2021-01-13T02:24:05.903930Z",
     "shell.execute_reply": "2021-01-13T02:24:05.904391Z"
    },
    "id": "s4LlDOS6FUA1"
   },
   "outputs": [
    {
     "data": {
      "image/png": "[encoded data removed]",
      "text/plain": [
       "<Figure size 1440x288 with 20 Axes>"
      ]
     },
     "metadata": {
      "needs_background": "light"
     },
     "output_type": "display_data"
    }
   ],
   "source": [
    "n = 10\n",
    "plt.figure(figsize=(20, 4))\n",
    "for i in range(n):\n",
    "  # display original\n",
    "  ax = plt.subplot(2, n, i + 1)\n",
    "  plt.imshow(x_test[i])\n",
    "  plt.title(\"original\")\n",
    "  plt.gray()\n",
    "  ax.get_xaxis().set_visible(False)\n",
    "  ax.get_yaxis().set_visible(False)\n",
    "\n",
    "  # display reconstruction\n",
    "  ax = plt.subplot(2, n, i + 1 + n)\n",
    "  plt.imshow(decoded_imgs[i])\n",
    "  plt.title(\"reconstructed\")\n",
    "  plt.gray()\n",
    "  ax.get_xaxis().set_visible(False)\n",
    "  ax.get_yaxis().set_visible(False)\n",
    "plt.show()"
   ]
  },
  {
   "cell_type": "markdown",
   "metadata": {},
   "source": [
    "## Use Boostrapping to estimate latent distribution for each class\n",
    "\n"
   ]
  },
  {
   "cell_type": "code",
   "execution_count": 9,
   "metadata": {},
   "outputs": [],
   "source": [
    "(train_images2, train_labels2), (test_images2, test_labels2) = fashion_mnist.load_data()\n"
   ]
  },
  {
   "cell_type": "code",
   "execution_count": 10,
   "metadata": {},
   "outputs": [],
   "source": [
    "class_names = ['T-shirt/top', 'Trouser', 'Pullover', 'Dress', 'Coat',\n",
    "               'Sandal', 'Shirt', 'Sneaker', 'Bag', 'Ankle boot']"
   ]
  },
  {
   "cell_type": "code",
   "execution_count": 11,
   "metadata": {},
   "outputs": [],
   "source": [
    "def fix_non_positive_definite_matrix(A,eps=0.01):\n",
    "    logger = logging.getLogger('fix_non_positive_definite_matrix')\n",
    "    e,v = tf.linalg.eigh(A)\n",
    "    e_fix = e * tf.cast(tf.greater(e,0),dtype=tf.float32)+eps *tf.cast(tf.less_equal(e,0),dtype=tf.float32)\n",
    "    A_fix = tf.matmul(v,tf.matmul(tf.linalg.diag(e_fix),tf.transpose(v)))\n",
    "    A_norm = tf.norm(A)\n",
    "    A_fix_norm = tf.norm(A_fix)\n",
    "    corr_err = tf.math.round(1.0*tf.math.abs(A_norm-A_fix_norm)/A_norm,10)\n",
    "    logger.info(f'Correction error : {corr_err}')\n",
    "    logger.info(f'VV^T after fixing = {tf.linalg.diag_part(tf.matmul(v,tf.transpose(v)))}')\n",
    "    return A_fix"
   ]
  },
  {
   "cell_type": "code",
   "execution_count": 12,
   "metadata": {},
   "outputs": [],
   "source": [
    "def calc_z_likelihood(z,raxis = 0):\n",
    "    logger = logging.getLogger('calc_z_likelihood')\n",
    "    sample_mean = tf.reduce_max(input_tensor=z,axis=raxis)\n",
    "    sample_cov = tfp.stats.covariance(x=z)\n",
    "    sample_cov_fixed  = fix_non_positive_definite_matrix(sample_cov)\n",
    "    \n",
    "    e,v = tf.linalg.eigh(tensor=sample_cov_fixed)\n",
    "    logger.info(f'Eigenvalues for sample covariance marix : shape =  {e.shape} , values = {e}')\n",
    "\n",
    "    L = tf.linalg.cholesky(input=sample_cov_fixed)\n",
    "    \n",
    "    sample_var = tf.linalg.diag_part(input=sample_cov)+0.1\n",
    "#     logger.debug(f'sample_mean = {sample_mean.shape}')\n",
    "#     logger.debug(f'sample_cov = {sample_cov.shape}')\n",
    "    logger.debug(f'sample_var = {sample_var}')\n",
    "    mvn_diag = tfp.distributions.MultivariateNormalDiag(loc=sample_mean,scale_diag=sample_var)\n",
    "    mvn_tri = tfp.distributions.MultivariateNormalTriL(loc=sample_mean,scale_tril=L)\n",
    "    log_p_diag = tf.reduce_sum(mvn_diag.log_prob(z))\n",
    "    log_p_tri = tf.reduce_sum(mvn_tri.log_prob(z))\n",
    "    logger.debug(f' log_p_tri = {log_p_tri}')\n",
    "    logger.debug(f' log_p_diag = {log_p_diag}')\n",
    "    logger.debug(f'Ratio log_p_tri / log_p_diag = {np.round(log_p_tri/log_p_diag,3)}')\n",
    "    "
   ]
  },
  {
   "cell_type": "code",
   "execution_count": null,
   "metadata": {
    "scrolled": false
   },
   "outputs": [
    {
     "name": "stderr",
     "output_type": "stream",
     "text": [
      "INFO:Main:Training autoencoder for label 0 with name T-shirt/top\n"
     ]
    },
    {
     "name": "stdout",
     "output_type": "stream",
     "text": [
      "Epoch 1/10\n",
      "188/188 [==============================] - 1s 2ms/step - loss: 14747.9959 - val_loss: 14871.4717\n",
      "Epoch 2/10\n",
      "188/188 [==============================] - 0s 967us/step - loss: 14770.7605 - val_loss: 14871.4688\n",
      "Epoch 3/10\n",
      "188/188 [==============================] - 0s 980us/step - loss: 14597.9967 - val_loss: 14871.0459\n",
      "Epoch 4/10\n",
      "188/188 [==============================] - 0s 990us/step - loss: 14685.5602 - val_loss: 14869.1250\n",
      "Epoch 5/10\n",
      "188/188 [==============================] - 0s 991us/step - loss: 14761.6670 - val_loss: 14864.4922\n",
      "Epoch 6/10\n",
      "188/188 [==============================] - 0s 999us/step - loss: 14602.7012 - val_loss: 14864.4932\n",
      "Epoch 7/10\n",
      "188/188 [==============================] - 0s 987us/step - loss: 14581.6974 - val_loss: 14864.4932\n",
      "Epoch 8/10\n",
      "188/188 [==============================] - 0s 976us/step - loss: 14689.9640 - val_loss: 14864.4922\n",
      "Epoch 9/10\n",
      "188/188 [==============================] - 0s 1ms/step - loss: 14834.2313 - val_loss: 14864.4863\n",
      "Epoch 10/10\n",
      " 69/188 [==========>...................] - ETA: 0s - loss: 14641.4484"
     ]
    }
   ],
   "source": [
    "unique_labels = np.unique(train_labels2)\n",
    "logging.basicConfig(level=logging.DEBUG)\n",
    "logger = logging.getLogger('Main')\n",
    "\n",
    "auto_encoders = dict()\n",
    "for label in unique_labels:\n",
    "    train_idx = train_labels2==label\n",
    "    test_idx = test_labels2 == label\n",
    "    \n",
    "    train_images_label = train_images2[train_idx,:,:]\n",
    "    test_images_label = test_images2[test_idx,:,:]\n",
    "#     print(class_names[label])\n",
    "#     plt.imshow(train_images_label[0,:,:])\n",
    "#     plt.show()\n",
    "    logger.info(f'Training autoencoder for label {label} with name {class_names[label]}')\n",
    "    auto_encoders[label] = autoencoder = Autoencoder(latent_dim)\n",
    "    auto_encoders[label].compile(optimizer='adam', loss=losses.MeanSquaredError())\n",
    "    auto_encoders[label].fit(train_images_label, train_images_label,\n",
    "                epochs=10,\n",
    "                shuffle=True,\n",
    "                validation_data=(test_images_label, test_images_label))\n",
    "    \n",
    "    z = auto_encoders[label].encoder(test_images_label)\n",
    "    if z.shape[0] >2:\n",
    "        s = StandardScaler()\n",
    "        z_scaled = s.fit(z)\n",
    "        pca = PCA(n_components=2)\n",
    "        z_pca = pca.fit_transform(z)\n",
    "        z1 = z_pca[:,0]\n",
    "        z2 = z_pca[:,1]\n",
    "    elif z.shape[0] == 2:\n",
    "        z1 = z[:,0].numpy()\n",
    "        z2 = z[:,1].numpy()\n",
    "    else:\n",
    "        raise ValueError('Z shape must be >=2')\n",
    "    plt.hist2d(z1, z2, bins=(50, 50), cmap=plt.cm.jet)\n",
    "    plt.show()\n",
    "    \n",
    "    logger.info(f'Z shape of auto_encoder_{class_names[label]} = {z.shape}')\n",
    "    try:\n",
    "        calc_z_likelihood(z=z)\n",
    "    except Exception as e:\n",
    "        print(e)\n",
    "        continue\n",
    "    "
   ]
  },
  {
   "cell_type": "code",
   "execution_count": null,
   "metadata": {},
   "outputs": [],
   "source": [
    "# measure of matrix diagonality\n",
    "# https://math.stackexchange.com/a/1392524 "
   ]
  },
  {
   "cell_type": "markdown",
   "metadata": {},
   "source": [
    "Handling the problem of \"Cholesky decomposition was not successful\"\n",
    "https://www.tensorflow.org/probability/examples/TensorFlow_Probability_Case_Study_Covariance_Estimation#using_the_cholesky_decomposition_of_the_covariance_matrix"
   ]
  },
  {
   "cell_type": "markdown",
   "metadata": {},
   "source": [
    "## Correcting  sample cov matrix to be positive definite \n",
    "1. https://math.stackexchange.com/a/54820\n",
    "2. Algo \n",
    "    2.1 calculate eigenval and vec\n",
    "    \n",
    "    2.2 for the eigenval vector, calculate the norm of -ve values over all values and calculate error\n",
    "    \n",
    "    2.3 set all -ve values to eps > 0 (eps is small) \n",
    "    \n",
    "    2.4 Generate using eigne value decomposition A_bar = V D V_T and compare A_bar with original A\n",
    "    \n",
    "    the idea to re-generate a close symmetric postive definite approximate covariance matrix\n",
    "    "
   ]
  }
 ],
 "metadata": {
  "accelerator": "GPU",
  "colab": {
   "collapsed_sections": [],
   "name": "autoencoder.ipynb",
   "toc_visible": true
  },
  "kernelspec": {
   "display_name": "Python 3",
   "language": "python",
   "name": "python3"
  },
  "language_info": {
   "codemirror_mode": {
    "name": "ipython",
    "version": 3
   },
   "file_extension": ".py",
   "mimetype": "text/x-python",
   "name": "python",
   "nbconvert_exporter": "python",
   "pygments_lexer": "ipython3",
   "version": "3.7.0"
  }
 },
 "nbformat": 4,
 "nbformat_minor": 1
}
