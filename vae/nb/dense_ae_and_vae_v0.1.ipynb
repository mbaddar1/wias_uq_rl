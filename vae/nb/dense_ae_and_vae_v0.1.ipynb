{
 "cells": [
  {
   "cell_type": "markdown",
   "id": "billion-standing",
   "metadata": {},
   "source": [
    "1. Create a simple dense vae for mnist data generation\n",
    "2. not using Conv layer to measure the raw expressive power of approximate posteriors\n",
    "3. result are not expected to be visually good\n",
    "4. metrics to measure success , generated image MSE and KL-Divergence from original image\n",
    "6. Images can be considered as an example of real-life high-dimension space \n",
    "https://towardsdatascience.com/understanding-high-dimensional-spaces-in-machine-learning-4c5c38930b6a#:~:text=Understanding%20High%20Dimensional%20Spaces%20in%20Machine%20Learning,-Z%20Singer&text=A%20hallmark%20of%20machine%20learning,in%20some%20high%2Ddimensional%20space.\n",
    "7. https://cs.stackexchange.com/a/55276"
   ]
  },
  {
   "cell_type": "code",
   "execution_count": null,
   "id": "false-musical",
   "metadata": {},
   "outputs": [],
   "source": []
  }
 ],
 "metadata": {
  "kernelspec": {
   "display_name": "Python 3",
   "language": "python",
   "name": "python3"
  },
  "language_info": {
   "codemirror_mode": {
    "name": "ipython",
    "version": 3
   },
   "file_extension": ".py",
   "mimetype": "text/x-python",
   "name": "python",
   "nbconvert_exporter": "python",
   "pygments_lexer": "ipython3",
   "version": "3.7.0"
  }
 },
 "nbformat": 4,
 "nbformat_minor": 5
}
